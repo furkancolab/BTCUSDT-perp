{
  "cells": [
    {
      "cell_type": "markdown",
      "metadata": {
        "id": "Q2QI34kA1ykb"
      },
      "source": [
        "## Import necessary modules (Run this once at the beginning only)"
      ]
    },
    {
      "cell_type": "code",
      "execution_count": 1,
      "metadata": {
        "colab": {
          "base_uri": "https://localhost:8080/"
        },
        "id": "aVtQGsiIWUly",
        "outputId": "53382bec-6899-428e-c72e-398cd5835432"
      },
      "outputs": [
        {
          "name": "stdout",
          "output_type": "stream",
          "text": [
            "Mounted at /content/drive/\n"
          ]
        }
      ],
      "source": [
        "# Import modules\n",
        "import matplotlib.pyplot as plt\n",
        "import numpy as np\n",
        "# import tensorflow as tf\n",
        "import pandas as pd\n",
        "# from tensorflow import keras\n",
        "# from sklearn.preprocessing import MinMaxScaler\n",
        "from sklearn.metrics import mean_squared_error\n",
        "from scipy.optimize import curve_fit\n",
        "# from keras.layers import Bidirectional, Dropout, Activation, Dense, LSTM\n",
        "# from keras.layers import CuDNNLSTM\n",
        "# from keras.models import Sequential\n",
        "from google.colab import drive\n",
        "drive.mount('/content/drive/')"
      ]
    },
    {
      "cell_type": "code",
      "execution_count": 2,
      "metadata": {
        "id": "9JpRhKXpWlFI"
      },
      "outputs": [],
      "source": [
        "# Initial figure settings\n",
        "plt.rcParams['figure.figsize'] = [16,8]\n",
        "plt.rcParams.update({'font.size': 18})\n",
        "# Initial model training settings\n",
        "RANDOM_SEED = 42\n",
        "np.random.seed(RANDOM_SEED)"
      ]
    },
    {
      "cell_type": "markdown",
      "metadata": {
        "id": "Ez3V4fPA2Aqd"
      },
      "source": [
        "# Background classes and functions (Run this once at the beginning only)"
      ]
    },
    {
      "cell_type": "code",
      "execution_count": 3,
      "metadata": {
        "id": "U2XgpMpnWlMO"
      },
      "outputs": [],
      "source": [
        "# EDA class\n",
        "class READ:\n",
        "  def __init__(self,name):\n",
        "    self.name = name\n",
        "\n",
        "  def read_daily_hourly(self):\n",
        "    dataframe = pd.ExcelFile(self.name)\n",
        "    # Read daily data set\n",
        "    daily = pd.read_excel(dataframe, 'Daily Data', usecols=\"A:K\")\n",
        "    daily = daily.rename(columns={'Unnamed: 0': 'Date'})\n",
        "    daily.sort_values('Date')\n",
        "    daily['Date'] = pd.to_datetime(daily['Date'])\n",
        "    daily['Day'] = daily['Date'].dt.date\n",
        "    \n",
        "    # Read hourly data set\n",
        "    hourly = pd.read_excel(dataframe, 'Hourly Data')\n",
        "    hourly.sort_values('timestamp')\n",
        "    hourly['timestamp'] = pd.to_datetime(hourly['timestamp'])\n",
        "    hourly['Day'] = hourly['timestamp'].dt.date\n",
        "    hourly['Hour'] = hourly['timestamp'].dt.time\n",
        "    return daily, hourly\n",
        "\n",
        "class EDA:\n",
        "  def __init__(self,data):\n",
        "    self.data = data\n",
        "\n",
        "  def data_sourcing(self):\n",
        "    zeros = np.argwhere(self.data == 0)\n",
        "    nans = np.argwhere(np.isnan(self.data))\n",
        "    return [zeros, nans]\n",
        "\n",
        "  def data_cleaning(self,interpolate=False):\n",
        "    zeros, nans = self.data_sourcing()\n",
        "    if (interpolate):\n",
        "      pass\n",
        "    else:\n",
        "      remove = np.unique(np.concatenate([zeros[:,0], nans[:,0]]))\n",
        "      return np.delete(self.data, remove, axis=0)\n",
        "\n",
        "  def manipulation_analysis(self,frequency):\n",
        "    diff_usd = [t - s for s, t in zip(self.data[::frequency], self.data[frequency::frequency])]\n",
        "    diff_per = [(t - s)/s*100 for s, t in zip(self.data[::frequency], self.data[frequency::frequency])]\n",
        "    sort_diff_usd = np.sort(diff_usd)\n",
        "    sort_diff_per = np.sort(diff_per)\n",
        "    abs_diff_usd = np.sort(np.absolute(diff_usd))\n",
        "    abs_diff_per = np.sort(np.absolute(diff_per))\n",
        "    upper = np.mean(abs_diff_per[-20:]) + np.std(abs_diff_per[-20:])\n",
        "    lower = np.mean(abs_diff_per[-20:]) - np.std(abs_diff_per[-20:])\n",
        "    return [lower, upper]"
      ]
    },
    {
      "cell_type": "code",
      "execution_count": 4,
      "metadata": {
        "id": "kMkhYoFwW9Fs"
      },
      "outputs": [],
      "source": [
        "# Calculate Market Confidence Level\n",
        "def calc_confidence_level(last,actual,mani_limits):\n",
        "  lower = mani_limits[0]\n",
        "  upper = mani_limits[1]\n",
        "  diff = abs(last - actual)/last*100\n",
        "  if (diff <= lower):\n",
        "    return 100\n",
        "  elif (diff >= upper):\n",
        "    return 0\n",
        "  else:\n",
        "    return 100 - (diff-lower)/(upper-lower)*100"
      ]
    },
    {
      "cell_type": "code",
      "execution_count": 5,
      "metadata": {
        "id": "JJm6tT28XXba"
      },
      "outputs": [],
      "source": [
        "# Calculate Model Confidence Level\n",
        "def calc_model_confidence(predicted,actual):\n",
        "  diff = abs(predicted - actual)/actual*100\n",
        "  return 100 - diff"
      ]
    },
    {
      "cell_type": "code",
      "execution_count": 6,
      "metadata": {
        "id": "PCpaPPnkXXoV"
      },
      "outputs": [],
      "source": [
        "# SVD Linear Regression Model\n",
        "class SVD:\n",
        "  def __init__(self):\n",
        "    pass\n",
        "\n",
        "  def split_validation_data(self,A,b,t):\n",
        "    # p = np.random.permutation(len(A))\n",
        "    # A = A[p]\n",
        "    # b = b[p]\n",
        "    A_train = A[:-t]\n",
        "    b_train = b[1:-t+1]\n",
        "    A_test = A_train[:-t]\n",
        "    b_test = b_train[:-t]\n",
        "    return A_train, b_train, A_test, b_test\n",
        "    \n",
        "  def linear_regression(self,A_train,b_train):\n",
        "    U, S, VT = np.linalg.svd(A_train,full_matrices=False)\n",
        "    x = VT.T @ np.linalg.inv(np.diag(S)) @ U.T @ b_train\n",
        "    return x\n",
        "\n",
        "  def get_svd_error(self,A_test,b_test,x):\n",
        "    error = mean_squared_error(A_test @ x, b_test)\n",
        "    return error\n",
        "\n",
        "  def normalize_data(self,A):\n",
        "    A_mean = np.mean(A,axis=0)\n",
        "    A_mean = A_mean.reshape(-1,1)\n",
        "    A2 = A - np.ones((A.shape[0],1)) @ A_mean.T\n",
        "    for j in range(A.shape[1]):\n",
        "      A2std = np.std(A2[:,j])\n",
        "      A2[:,j] = A2[:,j]/A2std\n",
        "    return A2"
      ]
    },
    {
      "cell_type": "code",
      "execution_count": 7,
      "metadata": {
        "id": "nUusM43rXXya"
      },
      "outputs": [],
      "source": [
        "# LSTM model\n",
        "def lstm(data,seq_length,per_train):\n",
        "  # Scale data\n",
        "  scaler = MinMaxScaler()\n",
        "  scaled_btc_price = scaler.fit_transform(data.reshape(-1,1))\n",
        "  np.isnan(scaled_btc_price).any()\n",
        "\n",
        "  # Create LSTM sequences\n",
        "  def to_sequences(data, n):\n",
        "    d = []\n",
        "    for index in range(len(data) - n):\n",
        "      d.append(data[index: index + n])\n",
        "    return np.array(d)\n",
        "\n",
        "  def preprocess(data_raw, n, per_train):\n",
        "    data = to_sequences(data_raw, n)\n",
        "    num_train = int(per_train * data.shape[0])\n",
        "    A_train = data[:num_train, :-1, :]\n",
        "    b_train = data[:num_train, -1, :]\n",
        "    A_test = data[num_train:, :-1, :]\n",
        "    b_test = data[num_train:, -1, :]\n",
        "    return A_train, b_train, A_test, b_test\n",
        "\n",
        "  A_train, b_train, A_test, b_test = preprocess(scaled_btc_price, seq_length, per_train)\n",
        "\n",
        "  # Model\n",
        "  DROPOUT = 0.2\n",
        "  WINDOW_SIZE = seq_length - 1\n",
        "  model = keras.Sequential()\n",
        "  model.add(Bidirectional(CuDNNLSTM(WINDOW_SIZE, return_sequences=True),\n",
        "    input_shape=(WINDOW_SIZE, A_train.shape[-1])))\n",
        "  model.add(Dropout(rate=DROPOUT))\n",
        "  model.add(Bidirectional(CuDNNLSTM((WINDOW_SIZE * 2), return_sequences=True)))\n",
        "  model.add(Dropout(rate=DROPOUT))\n",
        "  model.add(Bidirectional(CuDNNLSTM(WINDOW_SIZE, return_sequences=False)))\n",
        "  model.add(Dense(units=1))\n",
        "  model.add(Activation('linear'))\n",
        "\n",
        "  # Train\n",
        "  model.compile(\n",
        "    loss='mean_squared_error',\n",
        "    optimizer='adam'\n",
        "  )\n",
        "  BATCH_SIZE = 64\n",
        "  history = model.fit(\n",
        "    A_train,\n",
        "    b_train,\n",
        "    epochs=50,\n",
        "    batch_size=BATCH_SIZE,\n",
        "    shuffle=False,\n",
        "    validation_split=0.1\n",
        "  )\n",
        "\n",
        "  # Model evaluation\n",
        "  model.evaluate(A_test, b_test)\n",
        "\n",
        "  plt.plot(history.history['loss'])\n",
        "  plt.plot(history.history['val_loss'])\n",
        "  plt.title('model loss')\n",
        "  plt.ylabel('loss')\n",
        "  plt.xlabel('epoch')\n",
        "  plt.legend(['train', 'test'], loc='upper left')\n",
        "  plt.show()\n",
        "\n",
        "  # Prediction\n",
        "  y_hat = model.predict(A_test)\n",
        "  y_test_inverse = scaler.inverse_transform(b_test)\n",
        "  y_hat_inverse = scaler.inverse_transform(y_hat)\n",
        "\n",
        "  plt.plot(y_test_inverse, label=\"Actual Price\", color='green')\n",
        "  plt.plot(y_hat_inverse, label=\"Predicted Price\", color='red')\n",
        "  plt.title('Bitcoin price prediction')\n",
        "  plt.xlabel('Time [days]')\n",
        "  plt.ylabel('Price')\n",
        "  plt.legend(loc='best')\n",
        "  plt.show()\n",
        "\n",
        "  return model"
      ]
    },
    {
      "cell_type": "code",
      "execution_count": 8,
      "metadata": {
        "id": "6zDL1YvMzbVL"
      },
      "outputs": [],
      "source": [
        "# Curve fit for hourly\n",
        "def poly_fit(x,a,b,c,d):\n",
        "  return a * x**3 + b * x**2 + c * x + d\n",
        "def sin_fit(x,a,b,c,d,e):\n",
        "  return a * np.sin(b - x) + c * x**2 + d * x + e\n",
        "\n",
        "class CFH:\n",
        "  def __init__(self,hourly):\n",
        "    self.hourly = hourly\n",
        "\n",
        "  def get_hourly_from_daily(self,daily,index):\n",
        "    day = daily.loc[index]['Day']\n",
        "    hours = self.hourly.loc[self.hourly['Day'] == day]\n",
        "    return hours['BTC PRICE- USD'].to_numpy()\n",
        "\n",
        "  def curve_fitting(self,data):\n",
        "    x = np.arange(len(data)-1,47)\n",
        "    y = np.arange(48)\n",
        "    diff = np.setdiff1d(y,x)\n",
        "    popt1, _ = curve_fit(poly_fit,diff,data)\n",
        "    a,b,c,d = popt1\n",
        "    predicted = poly_fit(diff,a,b,c,d)\n",
        "    mse1 = mean_squared_error(predicted,data)\n",
        "    popt2, _ = curve_fit(sin_fit,diff,data)\n",
        "    a,b,c,d,e = popt2\n",
        "    predicted = sin_fit(diff,a,b,c,d,e)\n",
        "    mse2 = mean_squared_error(predicted,data)\n",
        "    if (mse1 >= mse2):\n",
        "      a,b,c,d,e = popt2\n",
        "      return sin_fit(np.arange(24,48),a,b,c,d,e)\n",
        "    else:\n",
        "      a,b,c,d = popt1 \n",
        "      return poly_fit(np.arange(24,48),a,b,c,d)\n",
        "\n",
        "  def calc_local_min(self,data):\n",
        "    return min(data), np.argmin(data)\n",
        "\n",
        "  def calc_local_max(self,data):\n",
        "    return max(data), np.argmax(data)"
      ]
    },
    {
      "cell_type": "code",
      "execution_count": 9,
      "metadata": {
        "id": "Hy_EU9FqIWV6"
      },
      "outputs": [],
      "source": [
        "# Class for processing data and printing during validation\n",
        "class TRADING:\n",
        "  def __init__(self,last,predicted,conf_market,conf_model):\n",
        "    self.last = last\n",
        "    self.predicted = predicted\n",
        "    self.conf_market = conf_market\n",
        "    self.conf_model = conf_model\n",
        "\n",
        "  def print_current_state(self):\n",
        "    print (\"  Current actual price: \", self.last)\n",
        "    print (\"  Predicted next price: \", self.predicted)\n",
        "    print (\"  Percentage difference: \", (self.predicted-self.last)/self.last*100)\n",
        "    print (\"  Confidence Levels for Market: %d and Model: %d\" % (self.conf_market, self.conf_model))\n",
        "\n",
        "  def add_current_to_train(self,A_tt,b_tt,A_new,b_new):\n",
        "    print (\"  Adding current data to the list and removing the oldest.\")\n",
        "    A_tt = np.delete(A_tt,(0),axis=0)\n",
        "    b_tt = np.delete(b_tt,0)\n",
        "    A_tt = np.append(A_tt,[A_new],axis=0)\n",
        "    b_tt = np.append(b_tt,b_new)\n",
        "    return A_tt, b_tt\n",
        " \n",
        "  # def calc_hourly_decision():\n",
        "\n",
        "  def calc_daily_decision(self,open_trade):\n",
        "    if (self.conf_market >= 50) and (self.conf_model >= 75):\n",
        "      print (\"  Market and Model are reliable.\")\n",
        "      if (self.predicted > self.last*1.0015):\n",
        "        if (open_trade == -1):\n",
        "          decision = [1,1]\n",
        "        elif (open_trade == 0):\n",
        "          decision = [0,1]\n",
        "        else:\n",
        "          decision = [0,0]\n",
        "      elif (self.predicted < self.last*0.9985):\n",
        "        if (open_trade == 1):\n",
        "          decision = [1,-1]\n",
        "        elif (open_trade == 0):\n",
        "          decision = [0,-1]\n",
        "        else:\n",
        "          decision = [0,0]\n",
        "      else:\n",
        "        decision = [0,0]\n",
        "    else:\n",
        "      print (\"  Either Market or Model is not reliable.\")\n",
        "      if (open_trade != 0):\n",
        "        decision = [1,2]\n",
        "      else:\n",
        "        decision = [0,2]\n",
        "    return decision\n",
        "\n",
        "# Calculate profit factor\n",
        "def calc_profit(price_list,decisions):\n",
        "  loss=0\n",
        "  profit=0\n",
        "  for i in range(int(len(price_list)/2)):\n",
        "    t = price_list[2*i+1]-price_list[2*i]\n",
        "    d = decisions[i]\n",
        "    if (t*d < 0):\n",
        "      loss+=abs(t*d)\n",
        "    else:\n",
        "      profit+=abs(t*d)\n",
        "  if (loss != 0):\n",
        "    print (\"Profit Factor in Trade Term:\",profit/loss)\n",
        "  else:\n",
        "    print (\"No Losses. Total profit is: \", profit)\n",
        " \n",
        "# Print Decision function\n",
        "def print_decision(decision,hour):\n",
        "  c = decision[0]\n",
        "  d = decision[1]\n",
        "  if (c == 0) and (d == 1):\n",
        "    print (\"  Decision is Open New Trade as Buy at Hour: \", hour)\n",
        "  elif (c == 0) and (d == -1):\n",
        "    print (\"  Decision is Open New Trade as Sell at Hour: \", hour)\n",
        "  elif (c == 0) and (d == 0):\n",
        "    print (\"  Decision is Hold\")\n",
        "  elif (c == 0) and (d == 2):\n",
        "    print (\"  Decision is Hold and Re-train the model\")\n",
        "  elif (c == 1) and (d == 1):\n",
        "    print (\"  Decision is Close last Trade and Open new as Buy at Hour: \", hour)\n",
        "  elif (c == 1) and (d == -1):\n",
        "    print (\"  Decision is Close last Trade and Open new as Sell at Hour: \", hour)\n",
        "  elif (c == 1) and (d == 0):\n",
        "    print (\"  Decision is Close last Trade at Hour: \", hour)\n",
        "  elif (c == 1) and (d == 2):\n",
        "    print (\"  Decision is Close last Trade and Re-train the model at Hour: \", hour)"
      ]
    },
    {
      "cell_type": "code",
      "execution_count": 10,
      "metadata": {
        "id": "lmSuSjWU6Lmw"
      },
      "outputs": [],
      "source": [
        "def curve_fit_hourly(hourly,daily,nt,last,predicted,i,MinMax):\n",
        "  # Curve fit hourly data to find local min\n",
        "  cfh = CFH(hourly)\n",
        "  hours = cfh.get_hourly_from_daily(daily,nt+i-1) # Get previous day hourly data\n",
        "  next_hours = cfh.get_hourly_from_daily(daily,nt+i) # Get next day hourly data\n",
        "  hours = np.append(hours,last) # add current price to previous day hourly data\n",
        "  hours = np.append(hours,predicted) # add prediction to previous day hourly data\n",
        "  for j in range(len(next_hours)):\n",
        "    curve = cfh.curve_fitting(hours)\n",
        "    if (MinMax == -1):\n",
        "      value, index = cfh.calc_local_min(curve)\n",
        "    elif (MinMax == 1):\n",
        "      value, index = cfh.calc_local_max(curve)\n",
        "    if (index == j):\n",
        "      return value, j\n",
        "    else:\n",
        "      hours = np.insert(hours,-1,next_hours[j])\n",
        "  return value, j"
      ]
    },
    {
      "cell_type": "markdown",
      "metadata": {
        "id": "mKLkl57VmC_1"
      },
      "source": [
        "# Initial Input File Reading (Run this once at the beginning only)\n",
        "Please input the Bitcoin data Excel file using the same format as the one provided during the model development stages. The current code expects an Excel file named \"OnChainvs_Price_proj712.xlsx\" file read from the user's Google Drive. "
      ]
    },
    {
      "cell_type": "code",
      "execution_count": 11,
      "metadata": {
        "id": "vVVop8PPaGzX"
      },
      "outputs": [],
      "source": [
        "# Read data\n",
        "name = '/content/drive/MyDrive/OnChainvs_Price_proj712.xlsx'\n",
        "dataframe = READ(name)\n",
        "daily, hourly = dataframe.read_daily_hourly()"
      ]
    },
    {
      "cell_type": "code",
      "execution_count": 12,
      "metadata": {
        "id": "rGBPM-UMsmrM"
      },
      "outputs": [],
      "source": [
        "# EDA for the daily data\n",
        "arr_daily = daily.iloc[:,1:11].to_numpy()\n",
        "eda = EDA(arr_daily)\n",
        "arr_daily = eda.data_cleaning()\n",
        "# Determine manipulation values\n",
        "btc_daily = arr_daily[:,0]\n",
        "eda = EDA(btc_daily)\n",
        "daily_mani = eda.manipulation_analysis(1)\n",
        "# print (\"Daily Manipulation Limits: \", daily_mani)\n",
        "\n",
        "# EDA for the daily data\n",
        "arr_hourly = hourly.iloc[:,1:7].to_numpy()\n",
        "eda = EDA(arr_hourly)\n",
        "arr_hourly = eda.data_cleaning()\n",
        "# Determine manipulation values\n",
        "btc_hourly = arr_hourly[:,0]\n",
        "eda = EDA(btc_hourly)\n",
        "hourly_mani = eda.manipulation_analysis(4)\n",
        "# print (\"Hourly Manipulation Limits: \", hourly_mani)"
      ]
    },
    {
      "cell_type": "code",
      "execution_count": 13,
      "metadata": {
        "colab": {
          "base_uri": "https://localhost:8080/"
        },
        "id": "yMC_OBjszXLF",
        "outputId": "6eb92b6b-fb75-4dd4-84da-5da9a3bfae43"
      },
      "outputs": [
        {
          "name": "stdout",
          "output_type": "stream",
          "text": [
            "Initial Market confidence level:  100\n",
            "Initial Model confidence level:  99.20205389821957\n"
          ]
        }
      ],
      "source": [
        "# SVD Linear Regression for daily data\n",
        "A = arr_daily[:-1,1:]\n",
        "b = arr_daily[1:,0] \n",
        "test = 30\n",
        "nt = A.shape[0]\n",
        "\n",
        "# Split data into Train, Test and Dynamic Validation\n",
        "svd = SVD()\n",
        "A_train, b_train, A_test, b_test = svd.split_validation_data(A,b,test)\n",
        "# A_train_norm = svd.normalize_data(A_train)\n",
        "daily_x = svd.linear_regression(A_train,b_train)\n",
        "daily_error = svd.get_svd_error(A_test,b_test,daily_x)\n",
        "\n",
        "# A_tt = np.concatenate((A_train,A_test),axis=0)\n",
        "# b_tt = np.concatenate((b_train,b_test))\n",
        "# daily_x = svd.linear_regression(A_tt,b_tt)\n",
        "\n",
        "# Calculate initial confidence level\n",
        "predicted = A[-1] @ daily_x # last predicted price from the test data\n",
        "actual = b[-1] # actual price for the same date\n",
        "last = b[-2] # actual price for the previous date\n",
        "conf_model = calc_model_confidence(predicted,actual) # initial confidence level for the model\n",
        "conf_market = calc_confidence_level(last,actual,daily_mani) # initial confidence level for the market\n",
        "print (\"Initial Market confidence level: \", conf_market)\n",
        "print (\"Initial Model confidence level: \", conf_model)\n",
        "\n",
        "# Initiate variables for the trading algorithm\n",
        "price_list=[]\n",
        "buy_indices=[]\n",
        "sell_indices=[]\n",
        "profits=[]\n",
        "decisions=[]\n",
        "dec_counter=np.array([0,0,0]) # initialize Buy/Sell/Hold counter\n",
        "open_trade = 0\n",
        "close = False\n",
        "day = 0\n",
        "hour = 0 # Change the time you wanna start from here"
      ]
    },
    {
      "cell_type": "markdown",
      "metadata": {
        "id": "RRy_-tYV0ouS"
      },
      "source": [
        "# Dynamic Trading Algorithm. \n",
        "Run the below every hour after updating the daily/hourly data in the Excel file. If you have Google Colab Pro+, you can use Schedule to automate this task."
      ]
    },
    {
      "cell_type": "code",
      "execution_count": 21,
      "metadata": {
        "colab": {
          "base_uri": "https://localhost:8080/"
        },
        "id": "XjWnZOA22_Hg",
        "outputId": "c75c30e1-8ae9-46f8-e99c-df313dac7f7a"
      },
      "outputs": [
        {
          "name": "stdout",
          "output_type": "stream",
          "text": [
            "Day:  0  Hour:  7\n",
            "  Decision is Open New Trade as Sell at Hour:  7\n",
            "Buy Day and Hour so far:  []\n",
            "Sell Day and Hour so far:  [[0, 7]]\n",
            "So far trade Open and Close prices:  [21817.767646879965]\n",
            "So far trade Buy or Sell decisions:  ['Sell']\n"
          ]
        }
      ],
      "source": [
        "# Read data for the next day\n",
        "name = '/content/drive/MyDrive/OnChainvs_Price_proj712.xlsx'\n",
        "dataframe = READ(name)\n",
        "daily, hourly = dataframe.read_daily_hourly()\n",
        "arr_daily = daily.iloc[:,1:11].to_numpy()\n",
        "btc_daily = arr_daily[:,0]\n",
        "arr_hourly = hourly.iloc[:,1:7].to_numpy()\n",
        "btc_hourly = arr_hourly[:,0]\n",
        "A = arr_daily[:,1:]\n",
        "b = arr_daily[:,0]\n",
        "if (hour == 24):\n",
        "  hour = 0\n",
        "  day += 1\n",
        "\n",
        "print (\"Day: \", day, \" Hour: \", hour)\n",
        "if (hour == 0): # Change the time you wanna start from here\n",
        "  # Re-calculate the manipulation limits\n",
        "  eda = EDA(b)\n",
        "  mani = eda.manipulation_analysis(1)\n",
        "\n",
        "  # Re-calculate the confidence levels\n",
        "  last = b[-2]\n",
        "  actual = b[-1]\n",
        "  predicted = A[-2] @ daily_x\n",
        "  conf_market = calc_confidence_level(last,actual,mani)\n",
        "  conf_model = calc_model_confidence(predicted,actual)\n",
        "\n",
        "  # Run dynamic simulation\n",
        "  predicted = A[-1] @ daily_x\n",
        "  last = b[-1]\n",
        "\n",
        "  # Initiate validation class\n",
        "  trade = TRADING(last,predicted,conf_market, conf_model)\n",
        "\n",
        "  # Print current state\n",
        "  trade.print_current_state()\n",
        "\n",
        "  # Basic trading algorithm\n",
        "  decision = trade.calc_daily_decision(open_trade)\n",
        "  close = decision[0]\n",
        "  dec = decision[1]\n",
        "    \n",
        "if (dec == 1):\n",
        "  min_value, index = curve_fit_hourly(hourly,daily,nt,last,predicted,day,-1)\n",
        "  if (index == hour):\n",
        "    if (close):\n",
        "      price_list.append(min_value)\n",
        "      open_trade = 0\n",
        "    price_list.append(min_value)\n",
        "    decisions.append(dec)\n",
        "    buy_indices.append([day,index])\n",
        "    dec_counter = dec_counter+np.array([1,0,0])\n",
        "    open_trade = 1\n",
        "elif (dec == -1):\n",
        "  max_value, index = curve_fit_hourly(hourly,daily,nt,last,predicted,day,+1)\n",
        "  if (index == hour):\n",
        "    if (close):\n",
        "      price_list.append(max_value)\n",
        "      open_trade = 0\n",
        "    price_list.append(max_value)\n",
        "    decisions.append(dec)\n",
        "    sell_indices.append([day,index])\n",
        "    dec_counter = dec_counter+np.array([0,1,0])\n",
        "    open_trade = -1\n",
        "elif (dec == 0):\n",
        "  dec_counter = dec_counter+np.array([0,0,1])\n",
        "elif (dec == 2):\n",
        "  if (close):\n",
        "    if (open_trade == -1):\n",
        "      value, index = curve_fit_hourly(hourly,daily,nt,last,predicted,day,-1)\n",
        "      if (index == hour):\n",
        "        price_list.append(value)\n",
        "        open_trade = 0\n",
        "    elif (open_trade == 1):\n",
        "      value, index = curve_fit_hourly(hourly,daily,nt,last,predicted,day,+1)\n",
        "      if (index == hour):\n",
        "        price_list.append(value)\n",
        "        open_trade = 0\n",
        "  last_dec = 0\n",
        "  # Re-train the model\n",
        "  svd = SVD()\n",
        "  A_train, b_train, A_test, b_test = svd.split_validation_data(A,b,test)\n",
        "  daily_x = svd.linear_regression(A_train,b_train)\n",
        "\n",
        "# Print decision\n",
        "print_decision(decision,index)\n",
        "# Print previous decisions\n",
        "print (\"Buy Day and Hour so far: \", buy_indices)\n",
        "print (\"Sell Day and Hour so far: \", sell_indices)\n",
        "print (\"So far trade Open and Close prices: \", price_list)\n",
        "dec_strings = []\n",
        "for i in range(len(decisions)):\n",
        "  if (decisions[i] == -1):\n",
        "    dec_strings.append(\"Sell\")\n",
        "  elif (decisions[i] == 1):\n",
        "    dec_strings.append(\"Buy\")\n",
        "print (\"So far trade Buy or Sell decisions: \", dec_strings)\n",
        "hour += 1"
      ]
    }
  ],
  "metadata": {
    "colab": {
      "provenance": []
    },
    "kernelspec": {
      "display_name": "Python 3.10.6 ('base')",
      "language": "python",
      "name": "python3"
    },
    "language_info": {
      "name": "python",
      "version": "3.10.6"
    },
    "vscode": {
      "interpreter": {
        "hash": "f7120104f38616a8db967603f05c34ca101da9b45f150da360878878ee2b673f"
      }
    }
  },
  "nbformat": 4,
  "nbformat_minor": 0
}
